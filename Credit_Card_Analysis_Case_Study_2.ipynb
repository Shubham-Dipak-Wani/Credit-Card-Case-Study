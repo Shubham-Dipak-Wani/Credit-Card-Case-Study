{
 "cells": [
  {
   "cell_type": "code",
   "execution_count": 107,
   "id": "377927a7",
   "metadata": {},
   "outputs": [],
   "source": [
    "import pandas as pd\n",
    "import numpy as np\n",
    "import matplotlib.pyplot as plt"
   ]
  },
  {
   "cell_type": "markdown",
   "id": "a4783281",
   "metadata": {},
   "source": [
    "#### Data Import"
   ]
  },
  {
   "cell_type": "code",
   "execution_count": 106,
   "id": "b241147c",
   "metadata": {},
   "outputs": [],
   "source": [
    "Customer_Acquisition = pd.read_csv('Customer Acqusition.csv')\n",
    "Spend = pd.read_csv('spend.csv')\n",
    "Repayment = pd.read_csv('Repayment.csv')"
   ]
  },
  {
   "cell_type": "markdown",
   "id": "2bc2aa36",
   "metadata": {},
   "source": [
    "#### Data Cleaning on Customer_Acquisition "
   ]
  },
  {
   "cell_type": "code",
   "execution_count": 4,
   "id": "9663acb2",
   "metadata": {},
   "outputs": [
    {
     "data": {
      "text/html": [
       "<div>\n",
       "<style scoped>\n",
       "    .dataframe tbody tr th:only-of-type {\n",
       "        vertical-align: middle;\n",
       "    }\n",
       "\n",
       "    .dataframe tbody tr th {\n",
       "        vertical-align: top;\n",
       "    }\n",
       "\n",
       "    .dataframe thead th {\n",
       "        text-align: right;\n",
       "    }\n",
       "</style>\n",
       "<table border=\"1\" class=\"dataframe\">\n",
       "  <thead>\n",
       "    <tr style=\"text-align: right;\">\n",
       "      <th></th>\n",
       "      <th>No</th>\n",
       "      <th>Customer</th>\n",
       "      <th>Age</th>\n",
       "      <th>City</th>\n",
       "      <th>Product</th>\n",
       "      <th>Limit</th>\n",
       "      <th>Company</th>\n",
       "      <th>Segment</th>\n",
       "    </tr>\n",
       "  </thead>\n",
       "  <tbody>\n",
       "    <tr>\n",
       "      <th>0</th>\n",
       "      <td>1</td>\n",
       "      <td>A1</td>\n",
       "      <td>76</td>\n",
       "      <td>BANGALORE</td>\n",
       "      <td>Gold</td>\n",
       "      <td>500000.0</td>\n",
       "      <td>C1</td>\n",
       "      <td>Self Employed</td>\n",
       "    </tr>\n",
       "    <tr>\n",
       "      <th>1</th>\n",
       "      <td>2</td>\n",
       "      <td>A2</td>\n",
       "      <td>71</td>\n",
       "      <td>CALCUTTA</td>\n",
       "      <td>Silver</td>\n",
       "      <td>100000.0</td>\n",
       "      <td>C2</td>\n",
       "      <td>Salaried_MNC</td>\n",
       "    </tr>\n",
       "    <tr>\n",
       "      <th>2</th>\n",
       "      <td>3</td>\n",
       "      <td>A3</td>\n",
       "      <td>34</td>\n",
       "      <td>COCHIN</td>\n",
       "      <td>Platimum</td>\n",
       "      <td>10000.0</td>\n",
       "      <td>C3</td>\n",
       "      <td>Salaried_Pvt</td>\n",
       "    </tr>\n",
       "    <tr>\n",
       "      <th>3</th>\n",
       "      <td>4</td>\n",
       "      <td>A4</td>\n",
       "      <td>47</td>\n",
       "      <td>BOMBAY</td>\n",
       "      <td>Platimum</td>\n",
       "      <td>10001.0</td>\n",
       "      <td>C4</td>\n",
       "      <td>Govt</td>\n",
       "    </tr>\n",
       "    <tr>\n",
       "      <th>4</th>\n",
       "      <td>5</td>\n",
       "      <td>A5</td>\n",
       "      <td>56</td>\n",
       "      <td>BANGALORE</td>\n",
       "      <td>Platimum</td>\n",
       "      <td>10002.0</td>\n",
       "      <td>C5</td>\n",
       "      <td>Normal Salary</td>\n",
       "    </tr>\n",
       "  </tbody>\n",
       "</table>\n",
       "</div>"
      ],
      "text/plain": [
       "   No Customer  Age       City   Product     Limit Company        Segment\n",
       "0   1       A1   76  BANGALORE      Gold  500000.0      C1  Self Employed\n",
       "1   2       A2   71   CALCUTTA    Silver  100000.0      C2   Salaried_MNC\n",
       "2   3       A3   34     COCHIN  Platimum   10000.0      C3   Salaried_Pvt\n",
       "3   4       A4   47     BOMBAY  Platimum   10001.0      C4           Govt\n",
       "4   5       A5   56  BANGALORE  Platimum   10002.0      C5  Normal Salary"
      ]
     },
     "execution_count": 4,
     "metadata": {},
     "output_type": "execute_result"
    }
   ],
   "source": [
    "Customer_Acquisition.head()"
   ]
  },
  {
   "cell_type": "code",
   "execution_count": 5,
   "id": "f39837b1",
   "metadata": {},
   "outputs": [
    {
     "name": "stdout",
     "output_type": "stream",
     "text": [
      "<class 'pandas.core.frame.DataFrame'>\n",
      "RangeIndex: 100 entries, 0 to 99\n",
      "Data columns (total 8 columns):\n",
      " #   Column    Non-Null Count  Dtype  \n",
      "---  ------    --------------  -----  \n",
      " 0   No        100 non-null    int64  \n",
      " 1   Customer  100 non-null    object \n",
      " 2   Age       100 non-null    int64  \n",
      " 3   City      100 non-null    object \n",
      " 4   Product   100 non-null    object \n",
      " 5   Limit     100 non-null    float64\n",
      " 6   Company   100 non-null    object \n",
      " 7   Segment   100 non-null    object \n",
      "dtypes: float64(1), int64(2), object(5)\n",
      "memory usage: 6.4+ KB\n"
     ]
    }
   ],
   "source": [
    "Customer_Acquisition.info()"
   ]
  },
  {
   "cell_type": "code",
   "execution_count": 6,
   "id": "96b24166",
   "metadata": {},
   "outputs": [],
   "source": [
    "Customer_Acquisition.drop('No',axis=1,inplace=True)"
   ]
  },
  {
   "cell_type": "markdown",
   "id": "a1a5c807",
   "metadata": {},
   "source": [
    "#### Data Cleaning on Spend data "
   ]
  },
  {
   "cell_type": "code",
   "execution_count": 7,
   "id": "aa6d9956",
   "metadata": {},
   "outputs": [
    {
     "data": {
      "text/html": [
       "<div>\n",
       "<style scoped>\n",
       "    .dataframe tbody tr th:only-of-type {\n",
       "        vertical-align: middle;\n",
       "    }\n",
       "\n",
       "    .dataframe tbody tr th {\n",
       "        vertical-align: top;\n",
       "    }\n",
       "\n",
       "    .dataframe thead th {\n",
       "        text-align: right;\n",
       "    }\n",
       "</style>\n",
       "<table border=\"1\" class=\"dataframe\">\n",
       "  <thead>\n",
       "    <tr style=\"text-align: right;\">\n",
       "      <th></th>\n",
       "      <th>Sl No:</th>\n",
       "      <th>Customer</th>\n",
       "      <th>Month</th>\n",
       "      <th>Type</th>\n",
       "      <th>Amount</th>\n",
       "    </tr>\n",
       "  </thead>\n",
       "  <tbody>\n",
       "    <tr>\n",
       "      <th>0</th>\n",
       "      <td>1</td>\n",
       "      <td>A1</td>\n",
       "      <td>12-Jan-04</td>\n",
       "      <td>JEWELLERY</td>\n",
       "      <td>485470.80</td>\n",
       "    </tr>\n",
       "    <tr>\n",
       "      <th>1</th>\n",
       "      <td>2</td>\n",
       "      <td>A1</td>\n",
       "      <td>3-Jan-04</td>\n",
       "      <td>PETRO</td>\n",
       "      <td>410556.13</td>\n",
       "    </tr>\n",
       "    <tr>\n",
       "      <th>2</th>\n",
       "      <td>3</td>\n",
       "      <td>A1</td>\n",
       "      <td>15-Jan-04</td>\n",
       "      <td>CLOTHES</td>\n",
       "      <td>23740.46</td>\n",
       "    </tr>\n",
       "    <tr>\n",
       "      <th>3</th>\n",
       "      <td>4</td>\n",
       "      <td>A1</td>\n",
       "      <td>25-Jan-04</td>\n",
       "      <td>FOOD</td>\n",
       "      <td>484342.47</td>\n",
       "    </tr>\n",
       "    <tr>\n",
       "      <th>4</th>\n",
       "      <td>5</td>\n",
       "      <td>A1</td>\n",
       "      <td>17-Jan-05</td>\n",
       "      <td>CAMERA</td>\n",
       "      <td>369694.07</td>\n",
       "    </tr>\n",
       "  </tbody>\n",
       "</table>\n",
       "</div>"
      ],
      "text/plain": [
       "   Sl No: Customer      Month       Type     Amount\n",
       "0       1       A1  12-Jan-04  JEWELLERY  485470.80\n",
       "1       2       A1   3-Jan-04      PETRO  410556.13\n",
       "2       3       A1  15-Jan-04    CLOTHES   23740.46\n",
       "3       4       A1  25-Jan-04       FOOD  484342.47\n",
       "4       5       A1  17-Jan-05     CAMERA  369694.07"
      ]
     },
     "execution_count": 7,
     "metadata": {},
     "output_type": "execute_result"
    }
   ],
   "source": [
    "Spend.head()"
   ]
  },
  {
   "cell_type": "code",
   "execution_count": 8,
   "id": "b322736a",
   "metadata": {},
   "outputs": [
    {
     "name": "stdout",
     "output_type": "stream",
     "text": [
      "<class 'pandas.core.frame.DataFrame'>\n",
      "RangeIndex: 1500 entries, 0 to 1499\n",
      "Data columns (total 5 columns):\n",
      " #   Column    Non-Null Count  Dtype  \n",
      "---  ------    --------------  -----  \n",
      " 0   Sl No:    1500 non-null   int64  \n",
      " 1   Customer  1500 non-null   object \n",
      " 2   Month     1500 non-null   object \n",
      " 3   Type      1500 non-null   object \n",
      " 4   Amount    1500 non-null   float64\n",
      "dtypes: float64(1), int64(1), object(3)\n",
      "memory usage: 58.7+ KB\n"
     ]
    }
   ],
   "source": [
    "Spend.info()"
   ]
  },
  {
   "cell_type": "markdown",
   "id": "9a0b92ae",
   "metadata": {},
   "source": [
    "#### Data Cleaning on Repay data"
   ]
  },
  {
   "cell_type": "code",
   "execution_count": 9,
   "id": "32b8f636",
   "metadata": {},
   "outputs": [
    {
     "data": {
      "text/html": [
       "<div>\n",
       "<style scoped>\n",
       "    .dataframe tbody tr th:only-of-type {\n",
       "        vertical-align: middle;\n",
       "    }\n",
       "\n",
       "    .dataframe tbody tr th {\n",
       "        vertical-align: top;\n",
       "    }\n",
       "\n",
       "    .dataframe thead th {\n",
       "        text-align: right;\n",
       "    }\n",
       "</style>\n",
       "<table border=\"1\" class=\"dataframe\">\n",
       "  <thead>\n",
       "    <tr style=\"text-align: right;\">\n",
       "      <th></th>\n",
       "      <th>SL No:</th>\n",
       "      <th>Customer</th>\n",
       "      <th>Month</th>\n",
       "      <th>Amount</th>\n",
       "      <th>Unnamed: 4</th>\n",
       "    </tr>\n",
       "  </thead>\n",
       "  <tbody>\n",
       "    <tr>\n",
       "      <th>0</th>\n",
       "      <td>NaN</td>\n",
       "      <td>A1</td>\n",
       "      <td>12-Jan-04</td>\n",
       "      <td>495414.75</td>\n",
       "      <td>NaN</td>\n",
       "    </tr>\n",
       "    <tr>\n",
       "      <th>1</th>\n",
       "      <td>2.0</td>\n",
       "      <td>A1</td>\n",
       "      <td>3-Jan-04</td>\n",
       "      <td>245899.02</td>\n",
       "      <td>NaN</td>\n",
       "    </tr>\n",
       "    <tr>\n",
       "      <th>2</th>\n",
       "      <td>3.0</td>\n",
       "      <td>A1</td>\n",
       "      <td>15-Jan-04</td>\n",
       "      <td>259490.06</td>\n",
       "      <td>NaN</td>\n",
       "    </tr>\n",
       "    <tr>\n",
       "      <th>3</th>\n",
       "      <td>4.0</td>\n",
       "      <td>A1</td>\n",
       "      <td>25-Jan-04</td>\n",
       "      <td>437555.12</td>\n",
       "      <td>NaN</td>\n",
       "    </tr>\n",
       "    <tr>\n",
       "      <th>4</th>\n",
       "      <td>5.0</td>\n",
       "      <td>A1</td>\n",
       "      <td>17-Jan-05</td>\n",
       "      <td>165972.88</td>\n",
       "      <td>NaN</td>\n",
       "    </tr>\n",
       "  </tbody>\n",
       "</table>\n",
       "</div>"
      ],
      "text/plain": [
       "   SL No: Customer      Month     Amount  Unnamed: 4\n",
       "0     NaN       A1  12-Jan-04  495414.75         NaN\n",
       "1     2.0       A1   3-Jan-04  245899.02         NaN\n",
       "2     3.0       A1  15-Jan-04  259490.06         NaN\n",
       "3     4.0       A1  25-Jan-04  437555.12         NaN\n",
       "4     5.0       A1  17-Jan-05  165972.88         NaN"
      ]
     },
     "execution_count": 9,
     "metadata": {},
     "output_type": "execute_result"
    }
   ],
   "source": [
    "Repayment.head()"
   ]
  },
  {
   "cell_type": "code",
   "execution_count": 10,
   "id": "30c8a19f",
   "metadata": {},
   "outputs": [
    {
     "name": "stdout",
     "output_type": "stream",
     "text": [
      "<class 'pandas.core.frame.DataFrame'>\n",
      "RangeIndex: 1523 entries, 0 to 1522\n",
      "Data columns (total 5 columns):\n",
      " #   Column      Non-Null Count  Dtype  \n",
      "---  ------      --------------  -----  \n",
      " 0   SL No:      1499 non-null   float64\n",
      " 1   Customer    1500 non-null   object \n",
      " 2   Month       1500 non-null   object \n",
      " 3   Amount      1500 non-null   float64\n",
      " 4   Unnamed: 4  0 non-null      float64\n",
      "dtypes: float64(3), object(2)\n",
      "memory usage: 59.6+ KB\n"
     ]
    }
   ],
   "source": [
    "Repayment.info()"
   ]
  },
  {
   "cell_type": "code",
   "execution_count": 11,
   "id": "ec0d25a7",
   "metadata": {},
   "outputs": [
    {
     "data": {
      "text/html": [
       "<div>\n",
       "<style scoped>\n",
       "    .dataframe tbody tr th:only-of-type {\n",
       "        vertical-align: middle;\n",
       "    }\n",
       "\n",
       "    .dataframe tbody tr th {\n",
       "        vertical-align: top;\n",
       "    }\n",
       "\n",
       "    .dataframe thead th {\n",
       "        text-align: right;\n",
       "    }\n",
       "</style>\n",
       "<table border=\"1\" class=\"dataframe\">\n",
       "  <thead>\n",
       "    <tr style=\"text-align: right;\">\n",
       "      <th></th>\n",
       "      <th>SL No:</th>\n",
       "      <th>Customer</th>\n",
       "      <th>Month</th>\n",
       "      <th>Amount</th>\n",
       "    </tr>\n",
       "  </thead>\n",
       "  <tbody>\n",
       "    <tr>\n",
       "      <th>0</th>\n",
       "      <td>NaN</td>\n",
       "      <td>A1</td>\n",
       "      <td>12-Jan-04</td>\n",
       "      <td>495414.75</td>\n",
       "    </tr>\n",
       "    <tr>\n",
       "      <th>1</th>\n",
       "      <td>2.0</td>\n",
       "      <td>A1</td>\n",
       "      <td>3-Jan-04</td>\n",
       "      <td>245899.02</td>\n",
       "    </tr>\n",
       "    <tr>\n",
       "      <th>2</th>\n",
       "      <td>3.0</td>\n",
       "      <td>A1</td>\n",
       "      <td>15-Jan-04</td>\n",
       "      <td>259490.06</td>\n",
       "    </tr>\n",
       "    <tr>\n",
       "      <th>3</th>\n",
       "      <td>4.0</td>\n",
       "      <td>A1</td>\n",
       "      <td>25-Jan-04</td>\n",
       "      <td>437555.12</td>\n",
       "    </tr>\n",
       "    <tr>\n",
       "      <th>4</th>\n",
       "      <td>5.0</td>\n",
       "      <td>A1</td>\n",
       "      <td>17-Jan-05</td>\n",
       "      <td>165972.88</td>\n",
       "    </tr>\n",
       "  </tbody>\n",
       "</table>\n",
       "</div>"
      ],
      "text/plain": [
       "   SL No: Customer      Month     Amount\n",
       "0     NaN       A1  12-Jan-04  495414.75\n",
       "1     2.0       A1   3-Jan-04  245899.02\n",
       "2     3.0       A1  15-Jan-04  259490.06\n",
       "3     4.0       A1  25-Jan-04  437555.12\n",
       "4     5.0       A1  17-Jan-05  165972.88"
      ]
     },
     "execution_count": 11,
     "metadata": {},
     "output_type": "execute_result"
    }
   ],
   "source": [
    "Repayment.drop(columns = 'Unnamed: 4', inplace =True)\n",
    "Repayment.head()"
   ]
  },
  {
   "cell_type": "code",
   "execution_count": 12,
   "id": "6f3d56e1",
   "metadata": {},
   "outputs": [
    {
     "data": {
      "text/plain": [
       "SL No:      24\n",
       "Customer    23\n",
       "Month       23\n",
       "Amount      23\n",
       "dtype: int64"
      ]
     },
     "execution_count": 12,
     "metadata": {},
     "output_type": "execute_result"
    }
   ],
   "source": [
    "Repayment.isnull().sum()"
   ]
  },
  {
   "cell_type": "code",
   "execution_count": 13,
   "id": "6a4685c9",
   "metadata": {},
   "outputs": [
    {
     "data": {
      "text/plain": [
       "SL No:      0\n",
       "Customer    0\n",
       "Month       0\n",
       "Amount      0\n",
       "dtype: int64"
      ]
     },
     "execution_count": 13,
     "metadata": {},
     "output_type": "execute_result"
    }
   ],
   "source": [
    "Repayment.dropna(inplace = True)\n",
    "Repayment.isnull().sum()"
   ]
  },
  {
   "cell_type": "markdown",
   "id": "79c11ca2",
   "metadata": {},
   "source": [
    "### 1.) In the above dataset "
   ]
  },
  {
   "cell_type": "markdown",
   "id": "28feb915",
   "metadata": {},
   "source": [
    "#### a. In case age is less than 18, replace it with mean of age values."
   ]
  },
  {
   "cell_type": "code",
   "execution_count": 14,
   "id": "c7bb50ba",
   "metadata": {},
   "outputs": [
    {
     "name": "stdout",
     "output_type": "stream",
     "text": [
      "46.49\n",
      "48.399399999999986\n"
     ]
    }
   ],
   "source": [
    "Mean_age_before = Customer_Acquisition['Age'].mean()\n",
    "print(Mean_age_before)\n",
    "Customer_Acquisition['Age'] = np.where(Customer_Acquisition.Age < 18,Mean_age_before,Customer_Acquisition.Age)\n",
    "Mean_age_after = Customer_Acquisition['Age'].mean()\n",
    "print(Mean_age_after)"
   ]
  },
  {
   "cell_type": "markdown",
   "id": "e02ac1db",
   "metadata": {},
   "source": [
    "#### b. In case spend amount is more than the limit, replace it with 50% of that customer’s limit. (customer’s limit provided in acquisition table is the per transaction limit on his card)"
   ]
  },
  {
   "cell_type": "code",
   "execution_count": 15,
   "id": "bdc97a99",
   "metadata": {},
   "outputs": [
    {
     "data": {
      "text/html": [
       "<div>\n",
       "<style scoped>\n",
       "    .dataframe tbody tr th:only-of-type {\n",
       "        vertical-align: middle;\n",
       "    }\n",
       "\n",
       "    .dataframe tbody tr th {\n",
       "        vertical-align: top;\n",
       "    }\n",
       "\n",
       "    .dataframe thead th {\n",
       "        text-align: right;\n",
       "    }\n",
       "</style>\n",
       "<table border=\"1\" class=\"dataframe\">\n",
       "  <thead>\n",
       "    <tr style=\"text-align: right;\">\n",
       "      <th></th>\n",
       "      <th>Customer</th>\n",
       "      <th>Age</th>\n",
       "      <th>City</th>\n",
       "      <th>Product</th>\n",
       "      <th>Limit</th>\n",
       "      <th>Company</th>\n",
       "      <th>Segment</th>\n",
       "      <th>Sl No:</th>\n",
       "      <th>Month</th>\n",
       "      <th>Type</th>\n",
       "      <th>Amount</th>\n",
       "    </tr>\n",
       "  </thead>\n",
       "  <tbody>\n",
       "    <tr>\n",
       "      <th>0</th>\n",
       "      <td>A1</td>\n",
       "      <td>76.0</td>\n",
       "      <td>BANGALORE</td>\n",
       "      <td>Gold</td>\n",
       "      <td>500000.0</td>\n",
       "      <td>C1</td>\n",
       "      <td>Self Employed</td>\n",
       "      <td>1</td>\n",
       "      <td>12-Jan-04</td>\n",
       "      <td>JEWELLERY</td>\n",
       "      <td>485470.80</td>\n",
       "    </tr>\n",
       "    <tr>\n",
       "      <th>1</th>\n",
       "      <td>A1</td>\n",
       "      <td>76.0</td>\n",
       "      <td>BANGALORE</td>\n",
       "      <td>Gold</td>\n",
       "      <td>500000.0</td>\n",
       "      <td>C1</td>\n",
       "      <td>Self Employed</td>\n",
       "      <td>2</td>\n",
       "      <td>3-Jan-04</td>\n",
       "      <td>PETRO</td>\n",
       "      <td>410556.13</td>\n",
       "    </tr>\n",
       "    <tr>\n",
       "      <th>2</th>\n",
       "      <td>A1</td>\n",
       "      <td>76.0</td>\n",
       "      <td>BANGALORE</td>\n",
       "      <td>Gold</td>\n",
       "      <td>500000.0</td>\n",
       "      <td>C1</td>\n",
       "      <td>Self Employed</td>\n",
       "      <td>3</td>\n",
       "      <td>15-Jan-04</td>\n",
       "      <td>CLOTHES</td>\n",
       "      <td>23740.46</td>\n",
       "    </tr>\n",
       "    <tr>\n",
       "      <th>3</th>\n",
       "      <td>A1</td>\n",
       "      <td>76.0</td>\n",
       "      <td>BANGALORE</td>\n",
       "      <td>Gold</td>\n",
       "      <td>500000.0</td>\n",
       "      <td>C1</td>\n",
       "      <td>Self Employed</td>\n",
       "      <td>4</td>\n",
       "      <td>25-Jan-04</td>\n",
       "      <td>FOOD</td>\n",
       "      <td>484342.47</td>\n",
       "    </tr>\n",
       "    <tr>\n",
       "      <th>4</th>\n",
       "      <td>A1</td>\n",
       "      <td>76.0</td>\n",
       "      <td>BANGALORE</td>\n",
       "      <td>Gold</td>\n",
       "      <td>500000.0</td>\n",
       "      <td>C1</td>\n",
       "      <td>Self Employed</td>\n",
       "      <td>5</td>\n",
       "      <td>17-Jan-05</td>\n",
       "      <td>CAMERA</td>\n",
       "      <td>369694.07</td>\n",
       "    </tr>\n",
       "    <tr>\n",
       "      <th>5</th>\n",
       "      <td>A1</td>\n",
       "      <td>76.0</td>\n",
       "      <td>BANGALORE</td>\n",
       "      <td>Gold</td>\n",
       "      <td>500000.0</td>\n",
       "      <td>C1</td>\n",
       "      <td>Self Employed</td>\n",
       "      <td>6</td>\n",
       "      <td>23-Feb-05</td>\n",
       "      <td>SANDALS</td>\n",
       "      <td>168285.60</td>\n",
       "    </tr>\n",
       "    <tr>\n",
       "      <th>6</th>\n",
       "      <td>A1</td>\n",
       "      <td>76.0</td>\n",
       "      <td>BANGALORE</td>\n",
       "      <td>Gold</td>\n",
       "      <td>500000.0</td>\n",
       "      <td>C1</td>\n",
       "      <td>Self Employed</td>\n",
       "      <td>7</td>\n",
       "      <td>1-Feb-05</td>\n",
       "      <td>CAR</td>\n",
       "      <td>23370.20</td>\n",
       "    </tr>\n",
       "    <tr>\n",
       "      <th>7</th>\n",
       "      <td>A1</td>\n",
       "      <td>76.0</td>\n",
       "      <td>BANGALORE</td>\n",
       "      <td>Gold</td>\n",
       "      <td>500000.0</td>\n",
       "      <td>C1</td>\n",
       "      <td>Self Employed</td>\n",
       "      <td>103</td>\n",
       "      <td>12-Jan-04</td>\n",
       "      <td>TRAIN TICKET</td>\n",
       "      <td>440563.22</td>\n",
       "    </tr>\n",
       "    <tr>\n",
       "      <th>8</th>\n",
       "      <td>A1</td>\n",
       "      <td>76.0</td>\n",
       "      <td>BANGALORE</td>\n",
       "      <td>Gold</td>\n",
       "      <td>500000.0</td>\n",
       "      <td>C1</td>\n",
       "      <td>Self Employed</td>\n",
       "      <td>117</td>\n",
       "      <td>5-Feb-04</td>\n",
       "      <td>BUS TICKET</td>\n",
       "      <td>52208.65</td>\n",
       "    </tr>\n",
       "    <tr>\n",
       "      <th>9</th>\n",
       "      <td>A1</td>\n",
       "      <td>76.0</td>\n",
       "      <td>BANGALORE</td>\n",
       "      <td>Gold</td>\n",
       "      <td>500000.0</td>\n",
       "      <td>C1</td>\n",
       "      <td>Self Employed</td>\n",
       "      <td>131</td>\n",
       "      <td>19-Apr-06</td>\n",
       "      <td>AIR TICKET</td>\n",
       "      <td>346925.68</td>\n",
       "    </tr>\n",
       "  </tbody>\n",
       "</table>\n",
       "</div>"
      ],
      "text/plain": [
       "  Customer   Age       City Product     Limit Company        Segment  Sl No:  \\\n",
       "0       A1  76.0  BANGALORE    Gold  500000.0      C1  Self Employed       1   \n",
       "1       A1  76.0  BANGALORE    Gold  500000.0      C1  Self Employed       2   \n",
       "2       A1  76.0  BANGALORE    Gold  500000.0      C1  Self Employed       3   \n",
       "3       A1  76.0  BANGALORE    Gold  500000.0      C1  Self Employed       4   \n",
       "4       A1  76.0  BANGALORE    Gold  500000.0      C1  Self Employed       5   \n",
       "5       A1  76.0  BANGALORE    Gold  500000.0      C1  Self Employed       6   \n",
       "6       A1  76.0  BANGALORE    Gold  500000.0      C1  Self Employed       7   \n",
       "7       A1  76.0  BANGALORE    Gold  500000.0      C1  Self Employed     103   \n",
       "8       A1  76.0  BANGALORE    Gold  500000.0      C1  Self Employed     117   \n",
       "9       A1  76.0  BANGALORE    Gold  500000.0      C1  Self Employed     131   \n",
       "\n",
       "       Month          Type     Amount  \n",
       "0  12-Jan-04     JEWELLERY  485470.80  \n",
       "1   3-Jan-04         PETRO  410556.13  \n",
       "2  15-Jan-04       CLOTHES   23740.46  \n",
       "3  25-Jan-04          FOOD  484342.47  \n",
       "4  17-Jan-05        CAMERA  369694.07  \n",
       "5  23-Feb-05       SANDALS  168285.60  \n",
       "6   1-Feb-05           CAR   23370.20  \n",
       "7  12-Jan-04  TRAIN TICKET  440563.22  \n",
       "8   5-Feb-04    BUS TICKET   52208.65  \n",
       "9  19-Apr-06    AIR TICKET  346925.68  "
      ]
     },
     "execution_count": 15,
     "metadata": {},
     "output_type": "execute_result"
    }
   ],
   "source": [
    "Customer_Spend = pd.merge(left=Customer_Acquisition, right=Spend, how ='inner', on='Customer')\n",
    "Customer_Spend['Amount'] = np.where(Customer_Spend.Amount>Customer_Spend.Limit,(Customer_Spend.Limit)* 0.5,Customer_Spend.Amount)\n",
    "Customer_Spend.head(10)"
   ]
  },
  {
   "cell_type": "markdown",
   "id": "63c47b94",
   "metadata": {},
   "source": [
    "#### c. Incase the repayment amount is more than the limit, replace the repayment with the limit."
   ]
  },
  {
   "cell_type": "code",
   "execution_count": 16,
   "id": "d73940c2",
   "metadata": {},
   "outputs": [
    {
     "data": {
      "text/html": [
       "<div>\n",
       "<style scoped>\n",
       "    .dataframe tbody tr th:only-of-type {\n",
       "        vertical-align: middle;\n",
       "    }\n",
       "\n",
       "    .dataframe tbody tr th {\n",
       "        vertical-align: top;\n",
       "    }\n",
       "\n",
       "    .dataframe thead th {\n",
       "        text-align: right;\n",
       "    }\n",
       "</style>\n",
       "<table border=\"1\" class=\"dataframe\">\n",
       "  <thead>\n",
       "    <tr style=\"text-align: right;\">\n",
       "      <th></th>\n",
       "      <th>Customer</th>\n",
       "      <th>Age</th>\n",
       "      <th>City</th>\n",
       "      <th>Product</th>\n",
       "      <th>Limit</th>\n",
       "      <th>Company</th>\n",
       "      <th>Segment</th>\n",
       "      <th>SL No:</th>\n",
       "      <th>Month</th>\n",
       "      <th>Amount</th>\n",
       "    </tr>\n",
       "  </thead>\n",
       "  <tbody>\n",
       "    <tr>\n",
       "      <th>0</th>\n",
       "      <td>A1</td>\n",
       "      <td>76.0</td>\n",
       "      <td>BANGALORE</td>\n",
       "      <td>Gold</td>\n",
       "      <td>500000.0</td>\n",
       "      <td>C1</td>\n",
       "      <td>Self Employed</td>\n",
       "      <td>2.0</td>\n",
       "      <td>3-Jan-04</td>\n",
       "      <td>245899.02</td>\n",
       "    </tr>\n",
       "    <tr>\n",
       "      <th>1</th>\n",
       "      <td>A1</td>\n",
       "      <td>76.0</td>\n",
       "      <td>BANGALORE</td>\n",
       "      <td>Gold</td>\n",
       "      <td>500000.0</td>\n",
       "      <td>C1</td>\n",
       "      <td>Self Employed</td>\n",
       "      <td>3.0</td>\n",
       "      <td>15-Jan-04</td>\n",
       "      <td>259490.06</td>\n",
       "    </tr>\n",
       "    <tr>\n",
       "      <th>2</th>\n",
       "      <td>A1</td>\n",
       "      <td>76.0</td>\n",
       "      <td>BANGALORE</td>\n",
       "      <td>Gold</td>\n",
       "      <td>500000.0</td>\n",
       "      <td>C1</td>\n",
       "      <td>Self Employed</td>\n",
       "      <td>4.0</td>\n",
       "      <td>25-Jan-04</td>\n",
       "      <td>437555.12</td>\n",
       "    </tr>\n",
       "    <tr>\n",
       "      <th>3</th>\n",
       "      <td>A1</td>\n",
       "      <td>76.0</td>\n",
       "      <td>BANGALORE</td>\n",
       "      <td>Gold</td>\n",
       "      <td>500000.0</td>\n",
       "      <td>C1</td>\n",
       "      <td>Self Employed</td>\n",
       "      <td>5.0</td>\n",
       "      <td>17-Jan-05</td>\n",
       "      <td>165972.88</td>\n",
       "    </tr>\n",
       "    <tr>\n",
       "      <th>4</th>\n",
       "      <td>A1</td>\n",
       "      <td>76.0</td>\n",
       "      <td>BANGALORE</td>\n",
       "      <td>Gold</td>\n",
       "      <td>500000.0</td>\n",
       "      <td>C1</td>\n",
       "      <td>Self Employed</td>\n",
       "      <td>6.0</td>\n",
       "      <td>23-Feb-05</td>\n",
       "      <td>365366.62</td>\n",
       "    </tr>\n",
       "    <tr>\n",
       "      <th>5</th>\n",
       "      <td>A1</td>\n",
       "      <td>76.0</td>\n",
       "      <td>BANGALORE</td>\n",
       "      <td>Gold</td>\n",
       "      <td>500000.0</td>\n",
       "      <td>C1</td>\n",
       "      <td>Self Employed</td>\n",
       "      <td>7.0</td>\n",
       "      <td>1-Feb-05</td>\n",
       "      <td>14473.41</td>\n",
       "    </tr>\n",
       "    <tr>\n",
       "      <th>6</th>\n",
       "      <td>A1</td>\n",
       "      <td>76.0</td>\n",
       "      <td>BANGALORE</td>\n",
       "      <td>Gold</td>\n",
       "      <td>500000.0</td>\n",
       "      <td>C1</td>\n",
       "      <td>Self Employed</td>\n",
       "      <td>103.0</td>\n",
       "      <td>12-Jan-04</td>\n",
       "      <td>350446.82</td>\n",
       "    </tr>\n",
       "    <tr>\n",
       "      <th>7</th>\n",
       "      <td>A1</td>\n",
       "      <td>76.0</td>\n",
       "      <td>BANGALORE</td>\n",
       "      <td>Gold</td>\n",
       "      <td>500000.0</td>\n",
       "      <td>C1</td>\n",
       "      <td>Self Employed</td>\n",
       "      <td>117.0</td>\n",
       "      <td>5-Feb-04</td>\n",
       "      <td>117964.43</td>\n",
       "    </tr>\n",
       "    <tr>\n",
       "      <th>8</th>\n",
       "      <td>A1</td>\n",
       "      <td>76.0</td>\n",
       "      <td>BANGALORE</td>\n",
       "      <td>Gold</td>\n",
       "      <td>500000.0</td>\n",
       "      <td>C1</td>\n",
       "      <td>Self Employed</td>\n",
       "      <td>131.0</td>\n",
       "      <td>19-Apr-06</td>\n",
       "      <td>79849.19</td>\n",
       "    </tr>\n",
       "    <tr>\n",
       "      <th>9</th>\n",
       "      <td>A1</td>\n",
       "      <td>76.0</td>\n",
       "      <td>BANGALORE</td>\n",
       "      <td>Gold</td>\n",
       "      <td>500000.0</td>\n",
       "      <td>C1</td>\n",
       "      <td>Self Employed</td>\n",
       "      <td>145.0</td>\n",
       "      <td>22-Nov-05</td>\n",
       "      <td>402099.78</td>\n",
       "    </tr>\n",
       "  </tbody>\n",
       "</table>\n",
       "</div>"
      ],
      "text/plain": [
       "  Customer   Age       City Product     Limit Company        Segment  SL No:  \\\n",
       "0       A1  76.0  BANGALORE    Gold  500000.0      C1  Self Employed     2.0   \n",
       "1       A1  76.0  BANGALORE    Gold  500000.0      C1  Self Employed     3.0   \n",
       "2       A1  76.0  BANGALORE    Gold  500000.0      C1  Self Employed     4.0   \n",
       "3       A1  76.0  BANGALORE    Gold  500000.0      C1  Self Employed     5.0   \n",
       "4       A1  76.0  BANGALORE    Gold  500000.0      C1  Self Employed     6.0   \n",
       "5       A1  76.0  BANGALORE    Gold  500000.0      C1  Self Employed     7.0   \n",
       "6       A1  76.0  BANGALORE    Gold  500000.0      C1  Self Employed   103.0   \n",
       "7       A1  76.0  BANGALORE    Gold  500000.0      C1  Self Employed   117.0   \n",
       "8       A1  76.0  BANGALORE    Gold  500000.0      C1  Self Employed   131.0   \n",
       "9       A1  76.0  BANGALORE    Gold  500000.0      C1  Self Employed   145.0   \n",
       "\n",
       "       Month     Amount  \n",
       "0   3-Jan-04  245899.02  \n",
       "1  15-Jan-04  259490.06  \n",
       "2  25-Jan-04  437555.12  \n",
       "3  17-Jan-05  165972.88  \n",
       "4  23-Feb-05  365366.62  \n",
       "5   1-Feb-05   14473.41  \n",
       "6  12-Jan-04  350446.82  \n",
       "7   5-Feb-04  117964.43  \n",
       "8  19-Apr-06   79849.19  \n",
       "9  22-Nov-05  402099.78  "
      ]
     },
     "execution_count": 16,
     "metadata": {},
     "output_type": "execute_result"
    }
   ],
   "source": [
    "Customer_Repayment = pd.merge(left=Customer_Acquisition, right=Repayment, how ='inner', on='Customer')\n",
    "Customer_Repayment['Amount']=np.where(Customer_Repayment.Amount>Customer_Repayment.Limit,Customer_Repayment.Limit,Customer_Repayment.Amount)\n",
    "Customer_Repayment.head(10)"
   ]
  },
  {
   "cell_type": "markdown",
   "id": "c75dba39",
   "metadata": {},
   "source": [
    "### 2. From the above dataset create the following summaries:"
   ]
  },
  {
   "cell_type": "markdown",
   "id": "00c59091",
   "metadata": {},
   "source": [
    "#### a. How many distinct customers exist?"
   ]
  },
  {
   "cell_type": "code",
   "execution_count": 17,
   "id": "69433a32",
   "metadata": {},
   "outputs": [
    {
     "data": {
      "text/plain": [
       "100"
      ]
     },
     "execution_count": 17,
     "metadata": {},
     "output_type": "execute_result"
    }
   ],
   "source": [
    "Customer_Acquisition['Customer'].nunique()"
   ]
  },
  {
   "cell_type": "code",
   "execution_count": 18,
   "id": "dcf2d708",
   "metadata": {},
   "outputs": [
    {
     "data": {
      "text/plain": [
       "100"
      ]
     },
     "execution_count": 18,
     "metadata": {},
     "output_type": "execute_result"
    }
   ],
   "source": [
    "Customer_Spend['Customer'].nunique()"
   ]
  },
  {
   "cell_type": "code",
   "execution_count": 19,
   "id": "64dd671e",
   "metadata": {},
   "outputs": [
    {
     "data": {
      "text/plain": [
       "100"
      ]
     },
     "execution_count": 19,
     "metadata": {},
     "output_type": "execute_result"
    }
   ],
   "source": [
    "Customer_Repayment['Customer'].nunique()"
   ]
  },
  {
   "cell_type": "markdown",
   "id": "cce5ac6a",
   "metadata": {},
   "source": [
    "#### b. How many distinct categories exist?"
   ]
  },
  {
   "cell_type": "code",
   "execution_count": 20,
   "id": "918a0579",
   "metadata": {},
   "outputs": [
    {
     "data": {
      "text/plain": [
       "3"
      ]
     },
     "execution_count": 20,
     "metadata": {},
     "output_type": "execute_result"
    }
   ],
   "source": [
    "Customer_Acquisition['Product'].nunique()"
   ]
  },
  {
   "cell_type": "code",
   "execution_count": 21,
   "id": "6d341497",
   "metadata": {},
   "outputs": [
    {
     "data": {
      "text/plain": [
       "3"
      ]
     },
     "execution_count": 21,
     "metadata": {},
     "output_type": "execute_result"
    }
   ],
   "source": [
    "Customer_Spend['Product'].nunique()"
   ]
  },
  {
   "cell_type": "code",
   "execution_count": 22,
   "id": "82f4b7b6",
   "metadata": {},
   "outputs": [
    {
     "name": "stdout",
     "output_type": "stream",
     "text": [
      "0         Gold\n",
      "17      Silver\n",
      "28    Platimum\n",
      "Name: Product, dtype: object\n",
      "3\n"
     ]
    }
   ],
   "source": [
    "print(Customer_Repayment['Product'].drop_duplicates())\n",
    "print(Customer_Repayment['Product'].drop_duplicates().count())"
   ]
  },
  {
   "cell_type": "markdown",
   "id": "4d0b67a5",
   "metadata": {},
   "source": [
    "####  c. What is the average monthly spend by customers?"
   ]
  },
  {
   "cell_type": "code",
   "execution_count": 23,
   "id": "b1dc0ac8",
   "metadata": {},
   "outputs": [
    {
     "data": {
      "text/html": [
       "<div>\n",
       "<style scoped>\n",
       "    .dataframe tbody tr th:only-of-type {\n",
       "        vertical-align: middle;\n",
       "    }\n",
       "\n",
       "    .dataframe tbody tr th {\n",
       "        vertical-align: top;\n",
       "    }\n",
       "\n",
       "    .dataframe thead th {\n",
       "        text-align: right;\n",
       "    }\n",
       "</style>\n",
       "<table border=\"1\" class=\"dataframe\">\n",
       "  <thead>\n",
       "    <tr style=\"text-align: right;\">\n",
       "      <th></th>\n",
       "      <th>Customer</th>\n",
       "      <th>Month_Name</th>\n",
       "      <th>Amount</th>\n",
       "    </tr>\n",
       "  </thead>\n",
       "  <tbody>\n",
       "    <tr>\n",
       "      <th>0</th>\n",
       "      <td>A1</td>\n",
       "      <td>April</td>\n",
       "      <td>261649.250000</td>\n",
       "    </tr>\n",
       "    <tr>\n",
       "      <th>1</th>\n",
       "      <td>A1</td>\n",
       "      <td>August</td>\n",
       "      <td>344372.100000</td>\n",
       "    </tr>\n",
       "    <tr>\n",
       "      <th>2</th>\n",
       "      <td>A1</td>\n",
       "      <td>February</td>\n",
       "      <td>175235.690000</td>\n",
       "    </tr>\n",
       "    <tr>\n",
       "      <th>3</th>\n",
       "      <td>A1</td>\n",
       "      <td>January</td>\n",
       "      <td>372762.587143</td>\n",
       "    </tr>\n",
       "    <tr>\n",
       "      <th>4</th>\n",
       "      <td>A1</td>\n",
       "      <td>May</td>\n",
       "      <td>361141.310000</td>\n",
       "    </tr>\n",
       "    <tr>\n",
       "      <th>5</th>\n",
       "      <td>A1</td>\n",
       "      <td>November</td>\n",
       "      <td>183839.610000</td>\n",
       "    </tr>\n",
       "    <tr>\n",
       "      <th>6</th>\n",
       "      <td>A1</td>\n",
       "      <td>October</td>\n",
       "      <td>244534.680000</td>\n",
       "    </tr>\n",
       "    <tr>\n",
       "      <th>7</th>\n",
       "      <td>A10</td>\n",
       "      <td>April</td>\n",
       "      <td>270721.680000</td>\n",
       "    </tr>\n",
       "    <tr>\n",
       "      <th>8</th>\n",
       "      <td>A10</td>\n",
       "      <td>August</td>\n",
       "      <td>454827.230000</td>\n",
       "    </tr>\n",
       "    <tr>\n",
       "      <th>9</th>\n",
       "      <td>A10</td>\n",
       "      <td>February</td>\n",
       "      <td>194557.667500</td>\n",
       "    </tr>\n",
       "    <tr>\n",
       "      <th>10</th>\n",
       "      <td>A10</td>\n",
       "      <td>January</td>\n",
       "      <td>161144.326667</td>\n",
       "    </tr>\n",
       "    <tr>\n",
       "      <th>11</th>\n",
       "      <td>A10</td>\n",
       "      <td>July</td>\n",
       "      <td>239798.030000</td>\n",
       "    </tr>\n",
       "    <tr>\n",
       "      <th>12</th>\n",
       "      <td>A10</td>\n",
       "      <td>March</td>\n",
       "      <td>134631.266667</td>\n",
       "    </tr>\n",
       "    <tr>\n",
       "      <th>13</th>\n",
       "      <td>A10</td>\n",
       "      <td>May</td>\n",
       "      <td>189207.392500</td>\n",
       "    </tr>\n",
       "    <tr>\n",
       "      <th>14</th>\n",
       "      <td>A10</td>\n",
       "      <td>November</td>\n",
       "      <td>459690.690000</td>\n",
       "    </tr>\n",
       "    <tr>\n",
       "      <th>15</th>\n",
       "      <td>A100</td>\n",
       "      <td>January</td>\n",
       "      <td>50000.000000</td>\n",
       "    </tr>\n",
       "    <tr>\n",
       "      <th>16</th>\n",
       "      <td>A11</td>\n",
       "      <td>April</td>\n",
       "      <td>483603.210000</td>\n",
       "    </tr>\n",
       "    <tr>\n",
       "      <th>17</th>\n",
       "      <td>A11</td>\n",
       "      <td>August</td>\n",
       "      <td>404113.850000</td>\n",
       "    </tr>\n",
       "    <tr>\n",
       "      <th>18</th>\n",
       "      <td>A11</td>\n",
       "      <td>February</td>\n",
       "      <td>237842.337500</td>\n",
       "    </tr>\n",
       "    <tr>\n",
       "      <th>19</th>\n",
       "      <td>A11</td>\n",
       "      <td>January</td>\n",
       "      <td>130298.903333</td>\n",
       "    </tr>\n",
       "  </tbody>\n",
       "</table>\n",
       "</div>"
      ],
      "text/plain": [
       "   Customer Month_Name         Amount\n",
       "0        A1      April  261649.250000\n",
       "1        A1     August  344372.100000\n",
       "2        A1   February  175235.690000\n",
       "3        A1    January  372762.587143\n",
       "4        A1        May  361141.310000\n",
       "5        A1   November  183839.610000\n",
       "6        A1    October  244534.680000\n",
       "7       A10      April  270721.680000\n",
       "8       A10     August  454827.230000\n",
       "9       A10   February  194557.667500\n",
       "10      A10    January  161144.326667\n",
       "11      A10       July  239798.030000\n",
       "12      A10      March  134631.266667\n",
       "13      A10        May  189207.392500\n",
       "14      A10   November  459690.690000\n",
       "15     A100    January   50000.000000\n",
       "16      A11      April  483603.210000\n",
       "17      A11     August  404113.850000\n",
       "18      A11   February  237842.337500\n",
       "19      A11    January  130298.903333"
      ]
     },
     "execution_count": 23,
     "metadata": {},
     "output_type": "execute_result"
    }
   ],
   "source": [
    "Customer_Spend['Month'] = pd.to_datetime(Customer_Spend['Month'])\n",
    "Customer_Spend['Month_Name'] = Customer_Spend['Month'].apply(lambda x : pd.Timestamp.strftime(x,format=\"%B\"))\n",
    "Average_Monthly_Spend = Customer_Spend.groupby(['Customer','Month_Name']).Amount.mean().reset_index()\n",
    "Average_Monthly_Spend.head(20)"
   ]
  },
  {
   "cell_type": "markdown",
   "id": "25d51a66",
   "metadata": {},
   "source": [
    "####  d. What is the average monthly repayment by customers?"
   ]
  },
  {
   "cell_type": "code",
   "execution_count": 24,
   "id": "a70da719",
   "metadata": {},
   "outputs": [
    {
     "data": {
      "text/html": [
       "<div>\n",
       "<style scoped>\n",
       "    .dataframe tbody tr th:only-of-type {\n",
       "        vertical-align: middle;\n",
       "    }\n",
       "\n",
       "    .dataframe tbody tr th {\n",
       "        vertical-align: top;\n",
       "    }\n",
       "\n",
       "    .dataframe thead th {\n",
       "        text-align: right;\n",
       "    }\n",
       "</style>\n",
       "<table border=\"1\" class=\"dataframe\">\n",
       "  <thead>\n",
       "    <tr style=\"text-align: right;\">\n",
       "      <th></th>\n",
       "      <th>Customer</th>\n",
       "      <th>Month_Name</th>\n",
       "      <th>Amount</th>\n",
       "    </tr>\n",
       "  </thead>\n",
       "  <tbody>\n",
       "    <tr>\n",
       "      <th>0</th>\n",
       "      <td>A1</td>\n",
       "      <td>April</td>\n",
       "      <td>254474.580000</td>\n",
       "    </tr>\n",
       "    <tr>\n",
       "      <th>1</th>\n",
       "      <td>A1</td>\n",
       "      <td>February</td>\n",
       "      <td>156374.760000</td>\n",
       "    </tr>\n",
       "    <tr>\n",
       "      <th>2</th>\n",
       "      <td>A1</td>\n",
       "      <td>January</td>\n",
       "      <td>318731.923333</td>\n",
       "    </tr>\n",
       "    <tr>\n",
       "      <th>3</th>\n",
       "      <td>A1</td>\n",
       "      <td>July</td>\n",
       "      <td>297176.740000</td>\n",
       "    </tr>\n",
       "    <tr>\n",
       "      <th>4</th>\n",
       "      <td>A1</td>\n",
       "      <td>November</td>\n",
       "      <td>285729.090000</td>\n",
       "    </tr>\n",
       "    <tr>\n",
       "      <th>5</th>\n",
       "      <td>A1</td>\n",
       "      <td>September</td>\n",
       "      <td>186427.500000</td>\n",
       "    </tr>\n",
       "    <tr>\n",
       "      <th>6</th>\n",
       "      <td>A10</td>\n",
       "      <td>April</td>\n",
       "      <td>159582.470000</td>\n",
       "    </tr>\n",
       "    <tr>\n",
       "      <th>7</th>\n",
       "      <td>A10</td>\n",
       "      <td>February</td>\n",
       "      <td>217344.503333</td>\n",
       "    </tr>\n",
       "    <tr>\n",
       "      <th>8</th>\n",
       "      <td>A10</td>\n",
       "      <td>January</td>\n",
       "      <td>272897.385000</td>\n",
       "    </tr>\n",
       "    <tr>\n",
       "      <th>9</th>\n",
       "      <td>A10</td>\n",
       "      <td>July</td>\n",
       "      <td>358194.650000</td>\n",
       "    </tr>\n",
       "    <tr>\n",
       "      <th>10</th>\n",
       "      <td>A10</td>\n",
       "      <td>March</td>\n",
       "      <td>240130.543333</td>\n",
       "    </tr>\n",
       "    <tr>\n",
       "      <th>11</th>\n",
       "      <td>A10</td>\n",
       "      <td>May</td>\n",
       "      <td>98672.695000</td>\n",
       "    </tr>\n",
       "    <tr>\n",
       "      <th>12</th>\n",
       "      <td>A100</td>\n",
       "      <td>January</td>\n",
       "      <td>69551.190000</td>\n",
       "    </tr>\n",
       "    <tr>\n",
       "      <th>13</th>\n",
       "      <td>A11</td>\n",
       "      <td>April</td>\n",
       "      <td>319488.693333</td>\n",
       "    </tr>\n",
       "    <tr>\n",
       "      <th>14</th>\n",
       "      <td>A11</td>\n",
       "      <td>August</td>\n",
       "      <td>332677.610000</td>\n",
       "    </tr>\n",
       "    <tr>\n",
       "      <th>15</th>\n",
       "      <td>A11</td>\n",
       "      <td>February</td>\n",
       "      <td>267447.315000</td>\n",
       "    </tr>\n",
       "    <tr>\n",
       "      <th>16</th>\n",
       "      <td>A11</td>\n",
       "      <td>January</td>\n",
       "      <td>319518.796667</td>\n",
       "    </tr>\n",
       "    <tr>\n",
       "      <th>17</th>\n",
       "      <td>A11</td>\n",
       "      <td>July</td>\n",
       "      <td>128484.370000</td>\n",
       "    </tr>\n",
       "    <tr>\n",
       "      <th>18</th>\n",
       "      <td>A11</td>\n",
       "      <td>March</td>\n",
       "      <td>254319.010000</td>\n",
       "    </tr>\n",
       "    <tr>\n",
       "      <th>19</th>\n",
       "      <td>A11</td>\n",
       "      <td>May</td>\n",
       "      <td>338580.575000</td>\n",
       "    </tr>\n",
       "  </tbody>\n",
       "</table>\n",
       "</div>"
      ],
      "text/plain": [
       "   Customer Month_Name         Amount\n",
       "0        A1      April  254474.580000\n",
       "1        A1   February  156374.760000\n",
       "2        A1    January  318731.923333\n",
       "3        A1       July  297176.740000\n",
       "4        A1   November  285729.090000\n",
       "5        A1  September  186427.500000\n",
       "6       A10      April  159582.470000\n",
       "7       A10   February  217344.503333\n",
       "8       A10    January  272897.385000\n",
       "9       A10       July  358194.650000\n",
       "10      A10      March  240130.543333\n",
       "11      A10        May   98672.695000\n",
       "12     A100    January   69551.190000\n",
       "13      A11      April  319488.693333\n",
       "14      A11     August  332677.610000\n",
       "15      A11   February  267447.315000\n",
       "16      A11    January  319518.796667\n",
       "17      A11       July  128484.370000\n",
       "18      A11      March  254319.010000\n",
       "19      A11        May  338580.575000"
      ]
     },
     "execution_count": 24,
     "metadata": {},
     "output_type": "execute_result"
    }
   ],
   "source": [
    "Customer_Repayment['Month'] = pd.to_datetime(Customer_Repayment['Month'])\n",
    "Customer_Repayment['Month_Name'] = Customer_Repayment['Month'].apply(lambda x : pd.Timestamp.strftime(x,format=\"%B\"))\n",
    "Average_Monthly_Repayment = Customer_Repayment.groupby(['Customer','Month_Name']).Amount.mean().reset_index()\n",
    "Average_Monthly_Repayment.head(20)"
   ]
  },
  {
   "cell_type": "markdown",
   "id": "0d6a7020",
   "metadata": {},
   "source": [
    "#### e. If the monthly rate of interest is 2.9%, what is the profit for the bank for each month? (Profit is defined as interest earned on Monthly Profit. Monthly Profit = Monthly repayment – Monthly spend. Interest is earned only on positive profits and not on negative amounts)\n",
    " "
   ]
  },
  {
   "cell_type": "code",
   "execution_count": 49,
   "id": "e69d6d22",
   "metadata": {},
   "outputs": [],
   "source": [
    "Customer_Spend_Repayment = pd.merge(left = Average_Monthly_Spend, right = Average_Monthly_Repayment, left_on = ['Customer','Month_Name'], right_on = ['Customer','Month_Name'] )"
   ]
  },
  {
   "cell_type": "code",
   "execution_count": 51,
   "id": "2949e67c",
   "metadata": {},
   "outputs": [
    {
     "data": {
      "text/html": [
       "<div>\n",
       "<style scoped>\n",
       "    .dataframe tbody tr th:only-of-type {\n",
       "        vertical-align: middle;\n",
       "    }\n",
       "\n",
       "    .dataframe tbody tr th {\n",
       "        vertical-align: top;\n",
       "    }\n",
       "\n",
       "    .dataframe thead th {\n",
       "        text-align: right;\n",
       "    }\n",
       "</style>\n",
       "<table border=\"1\" class=\"dataframe\">\n",
       "  <thead>\n",
       "    <tr style=\"text-align: right;\">\n",
       "      <th></th>\n",
       "      <th>Customer</th>\n",
       "      <th>Month_Name</th>\n",
       "      <th>Amount_x</th>\n",
       "      <th>Amount_y</th>\n",
       "    </tr>\n",
       "  </thead>\n",
       "  <tbody>\n",
       "    <tr>\n",
       "      <th>0</th>\n",
       "      <td>A1</td>\n",
       "      <td>April</td>\n",
       "      <td>261649.250000</td>\n",
       "      <td>254474.580000</td>\n",
       "    </tr>\n",
       "    <tr>\n",
       "      <th>1</th>\n",
       "      <td>A1</td>\n",
       "      <td>February</td>\n",
       "      <td>175235.690000</td>\n",
       "      <td>156374.760000</td>\n",
       "    </tr>\n",
       "    <tr>\n",
       "      <th>2</th>\n",
       "      <td>A1</td>\n",
       "      <td>January</td>\n",
       "      <td>372762.587143</td>\n",
       "      <td>318731.923333</td>\n",
       "    </tr>\n",
       "    <tr>\n",
       "      <th>3</th>\n",
       "      <td>A1</td>\n",
       "      <td>November</td>\n",
       "      <td>183839.610000</td>\n",
       "      <td>285729.090000</td>\n",
       "    </tr>\n",
       "    <tr>\n",
       "      <th>4</th>\n",
       "      <td>A10</td>\n",
       "      <td>April</td>\n",
       "      <td>270721.680000</td>\n",
       "      <td>159582.470000</td>\n",
       "    </tr>\n",
       "  </tbody>\n",
       "</table>\n",
       "</div>"
      ],
      "text/plain": [
       "  Customer Month_Name       Amount_x       Amount_y\n",
       "0       A1      April  261649.250000  254474.580000\n",
       "1       A1   February  175235.690000  156374.760000\n",
       "2       A1    January  372762.587143  318731.923333\n",
       "3       A1   November  183839.610000  285729.090000\n",
       "4      A10      April  270721.680000  159582.470000"
      ]
     },
     "execution_count": 51,
     "metadata": {},
     "output_type": "execute_result"
    }
   ],
   "source": [
    "Customer_Spend_Repayment.head()\n"
   ]
  },
  {
   "cell_type": "code",
   "execution_count": 52,
   "id": "71a5fa10",
   "metadata": {},
   "outputs": [
    {
     "data": {
      "text/html": [
       "<div>\n",
       "<style scoped>\n",
       "    .dataframe tbody tr th:only-of-type {\n",
       "        vertical-align: middle;\n",
       "    }\n",
       "\n",
       "    .dataframe tbody tr th {\n",
       "        vertical-align: top;\n",
       "    }\n",
       "\n",
       "    .dataframe thead th {\n",
       "        text-align: right;\n",
       "    }\n",
       "</style>\n",
       "<table border=\"1\" class=\"dataframe\">\n",
       "  <thead>\n",
       "    <tr style=\"text-align: right;\">\n",
       "      <th></th>\n",
       "      <th>Customer</th>\n",
       "      <th>Month_Name</th>\n",
       "      <th>Amount_x</th>\n",
       "      <th>Amount_y</th>\n",
       "      <th>Monthly_Profit</th>\n",
       "    </tr>\n",
       "  </thead>\n",
       "  <tbody>\n",
       "    <tr>\n",
       "      <th>0</th>\n",
       "      <td>A1</td>\n",
       "      <td>April</td>\n",
       "      <td>261649.250000</td>\n",
       "      <td>254474.580000</td>\n",
       "      <td>-7174.670000</td>\n",
       "    </tr>\n",
       "    <tr>\n",
       "      <th>1</th>\n",
       "      <td>A1</td>\n",
       "      <td>February</td>\n",
       "      <td>175235.690000</td>\n",
       "      <td>156374.760000</td>\n",
       "      <td>-18860.930000</td>\n",
       "    </tr>\n",
       "    <tr>\n",
       "      <th>2</th>\n",
       "      <td>A1</td>\n",
       "      <td>January</td>\n",
       "      <td>372762.587143</td>\n",
       "      <td>318731.923333</td>\n",
       "      <td>-54030.663810</td>\n",
       "    </tr>\n",
       "    <tr>\n",
       "      <th>3</th>\n",
       "      <td>A1</td>\n",
       "      <td>November</td>\n",
       "      <td>183839.610000</td>\n",
       "      <td>285729.090000</td>\n",
       "      <td>101889.480000</td>\n",
       "    </tr>\n",
       "    <tr>\n",
       "      <th>4</th>\n",
       "      <td>A10</td>\n",
       "      <td>April</td>\n",
       "      <td>270721.680000</td>\n",
       "      <td>159582.470000</td>\n",
       "      <td>-111139.210000</td>\n",
       "    </tr>\n",
       "    <tr>\n",
       "      <th>5</th>\n",
       "      <td>A10</td>\n",
       "      <td>February</td>\n",
       "      <td>194557.667500</td>\n",
       "      <td>217344.503333</td>\n",
       "      <td>22786.835833</td>\n",
       "    </tr>\n",
       "    <tr>\n",
       "      <th>6</th>\n",
       "      <td>A10</td>\n",
       "      <td>January</td>\n",
       "      <td>161144.326667</td>\n",
       "      <td>272897.385000</td>\n",
       "      <td>111753.058333</td>\n",
       "    </tr>\n",
       "    <tr>\n",
       "      <th>7</th>\n",
       "      <td>A10</td>\n",
       "      <td>July</td>\n",
       "      <td>239798.030000</td>\n",
       "      <td>358194.650000</td>\n",
       "      <td>118396.620000</td>\n",
       "    </tr>\n",
       "    <tr>\n",
       "      <th>8</th>\n",
       "      <td>A10</td>\n",
       "      <td>March</td>\n",
       "      <td>134631.266667</td>\n",
       "      <td>240130.543333</td>\n",
       "      <td>105499.276667</td>\n",
       "    </tr>\n",
       "    <tr>\n",
       "      <th>9</th>\n",
       "      <td>A10</td>\n",
       "      <td>May</td>\n",
       "      <td>189207.392500</td>\n",
       "      <td>98672.695000</td>\n",
       "      <td>-90534.697500</td>\n",
       "    </tr>\n",
       "  </tbody>\n",
       "</table>\n",
       "</div>"
      ],
      "text/plain": [
       "  Customer Month_Name       Amount_x       Amount_y  Monthly_Profit\n",
       "0       A1      April  261649.250000  254474.580000    -7174.670000\n",
       "1       A1   February  175235.690000  156374.760000   -18860.930000\n",
       "2       A1    January  372762.587143  318731.923333   -54030.663810\n",
       "3       A1   November  183839.610000  285729.090000   101889.480000\n",
       "4      A10      April  270721.680000  159582.470000  -111139.210000\n",
       "5      A10   February  194557.667500  217344.503333    22786.835833\n",
       "6      A10    January  161144.326667  272897.385000   111753.058333\n",
       "7      A10       July  239798.030000  358194.650000   118396.620000\n",
       "8      A10      March  134631.266667  240130.543333   105499.276667\n",
       "9      A10        May  189207.392500   98672.695000   -90534.697500"
      ]
     },
     "execution_count": 52,
     "metadata": {},
     "output_type": "execute_result"
    }
   ],
   "source": [
    "Customer_Spend_Repayment['Monthly_Profit'] = (Customer_Spend_Repayment.Amount_y - Customer_Spend_Repayment.Amount_x)\n",
    "Customer_Spend_Repayment.head(10)"
   ]
  },
  {
   "cell_type": "code",
   "execution_count": 53,
   "id": "e29a3b6b",
   "metadata": {},
   "outputs": [
    {
     "data": {
      "text/html": [
       "<div>\n",
       "<style scoped>\n",
       "    .dataframe tbody tr th:only-of-type {\n",
       "        vertical-align: middle;\n",
       "    }\n",
       "\n",
       "    .dataframe tbody tr th {\n",
       "        vertical-align: top;\n",
       "    }\n",
       "\n",
       "    .dataframe thead th {\n",
       "        text-align: right;\n",
       "    }\n",
       "</style>\n",
       "<table border=\"1\" class=\"dataframe\">\n",
       "  <thead>\n",
       "    <tr style=\"text-align: right;\">\n",
       "      <th></th>\n",
       "      <th>Customer</th>\n",
       "      <th>Month_Name</th>\n",
       "      <th>Amount_x</th>\n",
       "      <th>Amount_y</th>\n",
       "      <th>Monthly_Profit</th>\n",
       "      <th>Final_Profit</th>\n",
       "    </tr>\n",
       "  </thead>\n",
       "  <tbody>\n",
       "    <tr>\n",
       "      <th>0</th>\n",
       "      <td>A1</td>\n",
       "      <td>April</td>\n",
       "      <td>261649.250000</td>\n",
       "      <td>254474.580000</td>\n",
       "      <td>-7174.670000</td>\n",
       "      <td>None</td>\n",
       "    </tr>\n",
       "    <tr>\n",
       "      <th>1</th>\n",
       "      <td>A1</td>\n",
       "      <td>February</td>\n",
       "      <td>175235.690000</td>\n",
       "      <td>156374.760000</td>\n",
       "      <td>-18860.930000</td>\n",
       "      <td>None</td>\n",
       "    </tr>\n",
       "    <tr>\n",
       "      <th>2</th>\n",
       "      <td>A1</td>\n",
       "      <td>January</td>\n",
       "      <td>372762.587143</td>\n",
       "      <td>318731.923333</td>\n",
       "      <td>-54030.663810</td>\n",
       "      <td>None</td>\n",
       "    </tr>\n",
       "    <tr>\n",
       "      <th>3</th>\n",
       "      <td>A1</td>\n",
       "      <td>November</td>\n",
       "      <td>183839.610000</td>\n",
       "      <td>285729.090000</td>\n",
       "      <td>101889.480000</td>\n",
       "      <td>2954.794920000001</td>\n",
       "    </tr>\n",
       "    <tr>\n",
       "      <th>4</th>\n",
       "      <td>A10</td>\n",
       "      <td>April</td>\n",
       "      <td>270721.680000</td>\n",
       "      <td>159582.470000</td>\n",
       "      <td>-111139.210000</td>\n",
       "      <td>None</td>\n",
       "    </tr>\n",
       "    <tr>\n",
       "      <th>5</th>\n",
       "      <td>A10</td>\n",
       "      <td>February</td>\n",
       "      <td>194557.667500</td>\n",
       "      <td>217344.503333</td>\n",
       "      <td>22786.835833</td>\n",
       "      <td>660.818239166667</td>\n",
       "    </tr>\n",
       "    <tr>\n",
       "      <th>6</th>\n",
       "      <td>A10</td>\n",
       "      <td>January</td>\n",
       "      <td>161144.326667</td>\n",
       "      <td>272897.385000</td>\n",
       "      <td>111753.058333</td>\n",
       "      <td>3240.8386916666673</td>\n",
       "    </tr>\n",
       "    <tr>\n",
       "      <th>7</th>\n",
       "      <td>A10</td>\n",
       "      <td>July</td>\n",
       "      <td>239798.030000</td>\n",
       "      <td>358194.650000</td>\n",
       "      <td>118396.620000</td>\n",
       "      <td>3433.501980000001</td>\n",
       "    </tr>\n",
       "    <tr>\n",
       "      <th>8</th>\n",
       "      <td>A10</td>\n",
       "      <td>March</td>\n",
       "      <td>134631.266667</td>\n",
       "      <td>240130.543333</td>\n",
       "      <td>105499.276667</td>\n",
       "      <td>3059.479023333333</td>\n",
       "    </tr>\n",
       "    <tr>\n",
       "      <th>9</th>\n",
       "      <td>A10</td>\n",
       "      <td>May</td>\n",
       "      <td>189207.392500</td>\n",
       "      <td>98672.695000</td>\n",
       "      <td>-90534.697500</td>\n",
       "      <td>None</td>\n",
       "    </tr>\n",
       "  </tbody>\n",
       "</table>\n",
       "</div>"
      ],
      "text/plain": [
       "  Customer Month_Name       Amount_x       Amount_y  Monthly_Profit  \\\n",
       "0       A1      April  261649.250000  254474.580000    -7174.670000   \n",
       "1       A1   February  175235.690000  156374.760000   -18860.930000   \n",
       "2       A1    January  372762.587143  318731.923333   -54030.663810   \n",
       "3       A1   November  183839.610000  285729.090000   101889.480000   \n",
       "4      A10      April  270721.680000  159582.470000  -111139.210000   \n",
       "5      A10   February  194557.667500  217344.503333    22786.835833   \n",
       "6      A10    January  161144.326667  272897.385000   111753.058333   \n",
       "7      A10       July  239798.030000  358194.650000   118396.620000   \n",
       "8      A10      March  134631.266667  240130.543333   105499.276667   \n",
       "9      A10        May  189207.392500   98672.695000   -90534.697500   \n",
       "\n",
       "         Final_Profit  \n",
       "0                None  \n",
       "1                None  \n",
       "2                None  \n",
       "3   2954.794920000001  \n",
       "4                None  \n",
       "5    660.818239166667  \n",
       "6  3240.8386916666673  \n",
       "7   3433.501980000001  \n",
       "8   3059.479023333333  \n",
       "9                None  "
      ]
     },
     "execution_count": 53,
     "metadata": {},
     "output_type": "execute_result"
    }
   ],
   "source": [
    "Customer_Spend_Repayment['Final_Profit'] = np.where(Customer_Spend_Repayment['Monthly_Profit'] > 0 , Customer_Spend_Repayment['Monthly_Profit']*0.029, \"None\" )\n",
    "Customer_Spend_Repayment.head(10)"
   ]
  },
  {
   "cell_type": "markdown",
   "id": "3d4dca65",
   "metadata": {},
   "source": [
    "####  f. What are the top 5 product types? "
   ]
  },
  {
   "cell_type": "code",
   "execution_count": 54,
   "id": "9e3e0811",
   "metadata": {},
   "outputs": [
    {
     "name": "stdout",
     "output_type": "stream",
     "text": [
      "Top 5 Product Types are            Type       Amount\n",
      "0         PETRO  28597384.98\n",
      "1        CAMERA  27690738.44\n",
      "2          FOOD  20519243.60\n",
      "3    AIR TICKET  20155847.12\n",
      "4  TRAIN TICKET  19995825.72\n"
     ]
    }
   ],
   "source": [
    "Top_Product_types = Customer_Spend.groupby('Type').Amount.sum().reset_index().sort_values('Amount',ascending=False)\n",
    "Top_5_Product_Types = Top_Product_types.reset_index().drop(columns = 'index')[0:5]\n",
    "print(\"Top 5 Product Types are {0}\".format(Top_5_Product_Types))"
   ]
  },
  {
   "cell_type": "markdown",
   "id": "d288c036",
   "metadata": {},
   "source": [
    "#### g. Which city is having maximum spend?\n",
    "\n"
   ]
  },
  {
   "cell_type": "code",
   "execution_count": 55,
   "id": "0f449300",
   "metadata": {},
   "outputs": [
    {
     "data": {
      "text/html": [
       "<div>\n",
       "<style scoped>\n",
       "    .dataframe tbody tr th:only-of-type {\n",
       "        vertical-align: middle;\n",
       "    }\n",
       "\n",
       "    .dataframe tbody tr th {\n",
       "        vertical-align: top;\n",
       "    }\n",
       "\n",
       "    .dataframe thead th {\n",
       "        text-align: right;\n",
       "    }\n",
       "</style>\n",
       "<table border=\"1\" class=\"dataframe\">\n",
       "  <thead>\n",
       "    <tr style=\"text-align: right;\">\n",
       "      <th></th>\n",
       "      <th>City</th>\n",
       "      <th>Amount</th>\n",
       "    </tr>\n",
       "  </thead>\n",
       "  <tbody>\n",
       "    <tr>\n",
       "      <th>0</th>\n",
       "      <td>COCHIN</td>\n",
       "      <td>45963513.5</td>\n",
       "    </tr>\n",
       "  </tbody>\n",
       "</table>\n",
       "</div>"
      ],
      "text/plain": [
       "     City      Amount\n",
       "0  COCHIN  45963513.5"
      ]
     },
     "execution_count": 55,
     "metadata": {},
     "output_type": "execute_result"
    }
   ],
   "source": [
    "City_Spend  = Customer_Spend.groupby('City').Amount.sum().reset_index().sort_values('Amount',ascending=False)\n",
    "top_city = City_Spend.reset_index().drop(columns = 'index')[0:1]\n",
    "top_city\n"
   ]
  },
  {
   "cell_type": "markdown",
   "id": "393098e4",
   "metadata": {},
   "source": [
    "####  h. Which age group is spending more money?\n"
   ]
  },
  {
   "cell_type": "code",
   "execution_count": 56,
   "id": "15bebf42",
   "metadata": {},
   "outputs": [
    {
     "data": {
      "text/html": [
       "<div>\n",
       "<style scoped>\n",
       "    .dataframe tbody tr th:only-of-type {\n",
       "        vertical-align: middle;\n",
       "    }\n",
       "\n",
       "    .dataframe tbody tr th {\n",
       "        vertical-align: top;\n",
       "    }\n",
       "\n",
       "    .dataframe thead th {\n",
       "        text-align: right;\n",
       "    }\n",
       "</style>\n",
       "<table border=\"1\" class=\"dataframe\">\n",
       "  <thead>\n",
       "    <tr style=\"text-align: right;\">\n",
       "      <th></th>\n",
       "      <th>Age_Group</th>\n",
       "      <th>Amount</th>\n",
       "    </tr>\n",
       "  </thead>\n",
       "  <tbody>\n",
       "    <tr>\n",
       "      <th>1</th>\n",
       "      <td>Senior</td>\n",
       "      <td>1.117011e+08</td>\n",
       "    </tr>\n",
       "    <tr>\n",
       "      <th>0</th>\n",
       "      <td>Adults</td>\n",
       "      <td>1.080799e+08</td>\n",
       "    </tr>\n",
       "  </tbody>\n",
       "</table>\n",
       "</div>"
      ],
      "text/plain": [
       "  Age_Group        Amount\n",
       "1    Senior  1.117011e+08\n",
       "0    Adults  1.080799e+08"
      ]
     },
     "execution_count": 56,
     "metadata": {},
     "output_type": "execute_result"
    }
   ],
   "source": [
    "Customer_Spend['Age_Group']  = np.where( (Customer_Spend.Age.astype('int') >= 18) & (Customer_Spend.Age.astype('int') <= 45) , 'Adults' , 'Senior' ) \n",
    "Customer_Spend.groupby('Age_Group').Amount.sum().reset_index().sort_values(by = 'Amount', ascending= False)"
   ]
  },
  {
   "cell_type": "markdown",
   "id": "3d1db052",
   "metadata": {},
   "source": [
    "#### i. Who are the top 10 customers in terms of repayment?"
   ]
  },
  {
   "cell_type": "code",
   "execution_count": 57,
   "id": "c2cc4a44",
   "metadata": {},
   "outputs": [
    {
     "data": {
      "text/html": [
       "<div>\n",
       "<style scoped>\n",
       "    .dataframe tbody tr th:only-of-type {\n",
       "        vertical-align: middle;\n",
       "    }\n",
       "\n",
       "    .dataframe tbody tr th {\n",
       "        vertical-align: top;\n",
       "    }\n",
       "\n",
       "    .dataframe thead th {\n",
       "        text-align: right;\n",
       "    }\n",
       "</style>\n",
       "<table border=\"1\" class=\"dataframe\">\n",
       "  <thead>\n",
       "    <tr style=\"text-align: right;\">\n",
       "      <th></th>\n",
       "      <th>Customer</th>\n",
       "      <th>Amount</th>\n",
       "    </tr>\n",
       "  </thead>\n",
       "  <tbody>\n",
       "    <tr>\n",
       "      <th>0</th>\n",
       "      <td>A61</td>\n",
       "      <td>10539142.91</td>\n",
       "    </tr>\n",
       "    <tr>\n",
       "      <th>1</th>\n",
       "      <td>A60</td>\n",
       "      <td>9876290.74</td>\n",
       "    </tr>\n",
       "    <tr>\n",
       "      <th>2</th>\n",
       "      <td>A13</td>\n",
       "      <td>9572000.66</td>\n",
       "    </tr>\n",
       "    <tr>\n",
       "      <th>3</th>\n",
       "      <td>A43</td>\n",
       "      <td>8489871.46</td>\n",
       "    </tr>\n",
       "    <tr>\n",
       "      <th>4</th>\n",
       "      <td>A45</td>\n",
       "      <td>8448334.87</td>\n",
       "    </tr>\n",
       "    <tr>\n",
       "      <th>5</th>\n",
       "      <td>A12</td>\n",
       "      <td>8334760.16</td>\n",
       "    </tr>\n",
       "    <tr>\n",
       "      <th>6</th>\n",
       "      <td>A14</td>\n",
       "      <td>7943268.63</td>\n",
       "    </tr>\n",
       "    <tr>\n",
       "      <th>7</th>\n",
       "      <td>A44</td>\n",
       "      <td>7744730.12</td>\n",
       "    </tr>\n",
       "    <tr>\n",
       "      <th>8</th>\n",
       "      <td>A39</td>\n",
       "      <td>7622483.30</td>\n",
       "    </tr>\n",
       "    <tr>\n",
       "      <th>9</th>\n",
       "      <td>A42</td>\n",
       "      <td>7615460.86</td>\n",
       "    </tr>\n",
       "    <tr>\n",
       "      <th>10</th>\n",
       "      <td>A38</td>\n",
       "      <td>7470956.35</td>\n",
       "    </tr>\n",
       "  </tbody>\n",
       "</table>\n",
       "</div>"
      ],
      "text/plain": [
       "   Customer       Amount\n",
       "0       A61  10539142.91\n",
       "1       A60   9876290.74\n",
       "2       A13   9572000.66\n",
       "3       A43   8489871.46\n",
       "4       A45   8448334.87\n",
       "5       A12   8334760.16\n",
       "6       A14   7943268.63\n",
       "7       A44   7744730.12\n",
       "8       A39   7622483.30\n",
       "9       A42   7615460.86\n",
       "10      A38   7470956.35"
      ]
     },
     "execution_count": 57,
     "metadata": {},
     "output_type": "execute_result"
    }
   ],
   "source": [
    "Top_Repayment  = Customer_Repayment.groupby('Customer').Amount.sum().reset_index().sort_values('Amount',ascending=False)\n",
    "Top_10_Customer_Repayment = Top_Repayment.reset_index().drop(columns = 'index')[0:11]\n",
    "Top_10_Customer_Repayment"
   ]
  },
  {
   "cell_type": "markdown",
   "id": "e34cf531",
   "metadata": {},
   "source": [
    "### 3. Calculate the city wise spend on each product on yearly basis. Also include a graphical representation for the same.\n"
   ]
  },
  {
   "cell_type": "code",
   "execution_count": 58,
   "id": "2fca0b4d",
   "metadata": {},
   "outputs": [
    {
     "data": {
      "text/html": [
       "<div>\n",
       "<style scoped>\n",
       "    .dataframe tbody tr th:only-of-type {\n",
       "        vertical-align: middle;\n",
       "    }\n",
       "\n",
       "    .dataframe tbody tr th {\n",
       "        vertical-align: top;\n",
       "    }\n",
       "\n",
       "    .dataframe thead tr th {\n",
       "        text-align: left;\n",
       "    }\n",
       "\n",
       "    .dataframe thead tr:last-of-type th {\n",
       "        text-align: right;\n",
       "    }\n",
       "</style>\n",
       "<table border=\"1\" class=\"dataframe\">\n",
       "  <thead>\n",
       "    <tr>\n",
       "      <th>Product</th>\n",
       "      <th colspan=\"3\" halign=\"left\">Gold</th>\n",
       "      <th colspan=\"3\" halign=\"left\">Platimum</th>\n",
       "      <th colspan=\"3\" halign=\"left\">Silver</th>\n",
       "    </tr>\n",
       "    <tr>\n",
       "      <th>Yearly_Spend</th>\n",
       "      <th>2004</th>\n",
       "      <th>2005</th>\n",
       "      <th>2006</th>\n",
       "      <th>2004</th>\n",
       "      <th>2005</th>\n",
       "      <th>2006</th>\n",
       "      <th>2004</th>\n",
       "      <th>2005</th>\n",
       "      <th>2006</th>\n",
       "    </tr>\n",
       "    <tr>\n",
       "      <th>City</th>\n",
       "      <th></th>\n",
       "      <th></th>\n",
       "      <th></th>\n",
       "      <th></th>\n",
       "      <th></th>\n",
       "      <th></th>\n",
       "      <th></th>\n",
       "      <th></th>\n",
       "      <th></th>\n",
       "    </tr>\n",
       "  </thead>\n",
       "  <tbody>\n",
       "    <tr>\n",
       "      <th>BANGALORE</th>\n",
       "      <td>9289878.54</td>\n",
       "      <td>12892362.99</td>\n",
       "      <td>12030611.09</td>\n",
       "      <td>1112732.30</td>\n",
       "      <td>912284.97</td>\n",
       "      <td>685831.27</td>\n",
       "      <td>1291852.58</td>\n",
       "      <td>830612.34</td>\n",
       "      <td>1415480.94</td>\n",
       "    </tr>\n",
       "    <tr>\n",
       "      <th>BOMBAY</th>\n",
       "      <td>6987853.53</td>\n",
       "      <td>8983018.28</td>\n",
       "      <td>7917144.31</td>\n",
       "      <td>897264.94</td>\n",
       "      <td>711804.94</td>\n",
       "      <td>972130.01</td>\n",
       "      <td>532089.03</td>\n",
       "      <td>508988.54</td>\n",
       "      <td>1092833.80</td>\n",
       "    </tr>\n",
       "    <tr>\n",
       "      <th>CALCUTTA</th>\n",
       "      <td>7477140.98</td>\n",
       "      <td>10303355.80</td>\n",
       "      <td>11167532.77</td>\n",
       "      <td>2037690.30</td>\n",
       "      <td>4434696.31</td>\n",
       "      <td>3589606.66</td>\n",
       "      <td>500006.00</td>\n",
       "      <td>440147.06</td>\n",
       "      <td>1157956.42</td>\n",
       "    </tr>\n",
       "    <tr>\n",
       "      <th>CHENNAI</th>\n",
       "      <td>1059618.50</td>\n",
       "      <td>3740945.58</td>\n",
       "      <td>2704288.62</td>\n",
       "      <td>3535652.38</td>\n",
       "      <td>5053956.32</td>\n",
       "      <td>5024923.40</td>\n",
       "      <td>282056.86</td>\n",
       "      <td>377184.49</td>\n",
       "      <td>350009.50</td>\n",
       "    </tr>\n",
       "    <tr>\n",
       "      <th>COCHIN</th>\n",
       "      <td>7315850.15</td>\n",
       "      <td>12110613.03</td>\n",
       "      <td>10499142.38</td>\n",
       "      <td>3419904.07</td>\n",
       "      <td>4960921.71</td>\n",
       "      <td>4920592.29</td>\n",
       "      <td>814229.62</td>\n",
       "      <td>652269.38</td>\n",
       "      <td>1269990.87</td>\n",
       "    </tr>\n",
       "    <tr>\n",
       "      <th>DELHI</th>\n",
       "      <td>2806495.00</td>\n",
       "      <td>1964845.27</td>\n",
       "      <td>2957103.32</td>\n",
       "      <td>283512.89</td>\n",
       "      <td>494157.86</td>\n",
       "      <td>176788.72</td>\n",
       "      <td>768172.30</td>\n",
       "      <td>612311.21</td>\n",
       "      <td>854899.97</td>\n",
       "    </tr>\n",
       "    <tr>\n",
       "      <th>PATNA</th>\n",
       "      <td>2072567.90</td>\n",
       "      <td>3252615.77</td>\n",
       "      <td>2276181.69</td>\n",
       "      <td>1113069.60</td>\n",
       "      <td>2883231.07</td>\n",
       "      <td>1256137.65</td>\n",
       "      <td>756684.10</td>\n",
       "      <td>950094.19</td>\n",
       "      <td>700005.00</td>\n",
       "    </tr>\n",
       "    <tr>\n",
       "      <th>TRIVANDRUM</th>\n",
       "      <td>2415102.84</td>\n",
       "      <td>1240375.85</td>\n",
       "      <td>2735710.87</td>\n",
       "      <td>2161676.67</td>\n",
       "      <td>3601443.30</td>\n",
       "      <td>2147403.75</td>\n",
       "      <td>209667.48</td>\n",
       "      <td>269912.99</td>\n",
       "      <td>555862.12</td>\n",
       "    </tr>\n",
       "  </tbody>\n",
       "</table>\n",
       "</div>"
      ],
      "text/plain": [
       "Product             Gold                              Platimum              \\\n",
       "Yearly_Spend        2004         2005         2006        2004        2005   \n",
       "City                                                                         \n",
       "BANGALORE     9289878.54  12892362.99  12030611.09  1112732.30   912284.97   \n",
       "BOMBAY        6987853.53   8983018.28   7917144.31   897264.94   711804.94   \n",
       "CALCUTTA      7477140.98  10303355.80  11167532.77  2037690.30  4434696.31   \n",
       "CHENNAI       1059618.50   3740945.58   2704288.62  3535652.38  5053956.32   \n",
       "COCHIN        7315850.15  12110613.03  10499142.38  3419904.07  4960921.71   \n",
       "DELHI         2806495.00   1964845.27   2957103.32   283512.89   494157.86   \n",
       "PATNA         2072567.90   3252615.77   2276181.69  1113069.60  2883231.07   \n",
       "TRIVANDRUM    2415102.84   1240375.85   2735710.87  2161676.67  3601443.30   \n",
       "\n",
       "Product                       Silver                         \n",
       "Yearly_Spend        2006        2004       2005        2006  \n",
       "City                                                         \n",
       "BANGALORE      685831.27  1291852.58  830612.34  1415480.94  \n",
       "BOMBAY         972130.01   532089.03  508988.54  1092833.80  \n",
       "CALCUTTA      3589606.66   500006.00  440147.06  1157956.42  \n",
       "CHENNAI       5024923.40   282056.86  377184.49   350009.50  \n",
       "COCHIN        4920592.29   814229.62  652269.38  1269990.87  \n",
       "DELHI          176788.72   768172.30  612311.21   854899.97  \n",
       "PATNA         1256137.65   756684.10  950094.19   700005.00  \n",
       "TRIVANDRUM    2147403.75   209667.48  269912.99   555862.12  "
      ]
     },
     "execution_count": 58,
     "metadata": {},
     "output_type": "execute_result"
    }
   ],
   "source": [
    "Customer_Spend['Yearly_Spend'] = Customer_Spend['Month'].apply(lambda x: pd.Timestamp.strftime(x,format=\"%Y\"))\n",
    "Citywise_spend = pd.pivot_table(data = Customer_Spend, index = 'City', columns= ['Product','Yearly_Spend'], values = 'Amount', aggfunc = 'sum')\n",
    "Citywise_spend.head(30)"
   ]
  },
  {
   "cell_type": "code",
   "execution_count": 59,
   "id": "d346f896",
   "metadata": {},
   "outputs": [
    {
     "data": {
      "text/plain": [
       "<AxesSubplot:xlabel='City'>"
      ]
     },
     "execution_count": 59,
     "metadata": {},
     "output_type": "execute_result"
    },
    {
     "data": {
      "image/png": "[encoded data removed]",
      "text/plain": [
       "<Figure size 720x720 with 1 Axes>"
      ]
     },
     "metadata": {
      "needs_background": "light"
     },
     "output_type": "display_data"
    }
   ],
   "source": [
    "Citywise_spend.plot(kind ='bar' , figsize =(10,10) , stacked = True)"
   ]
  },
  {
   "cell_type": "markdown",
   "id": "e0fa0002",
   "metadata": {},
   "source": [
    "### 4. Create graphs for"
   ]
  },
  {
   "cell_type": "markdown",
   "id": "20041b12",
   "metadata": {},
   "source": [
    "#### a. Monthly comparison of total spends, city wise"
   ]
  },
  {
   "cell_type": "code",
   "execution_count": 60,
   "id": "6216bb92",
   "metadata": {},
   "outputs": [
    {
     "data": {
      "text/plain": [
       "<AxesSubplot:xlabel='City'>"
      ]
     },
     "execution_count": 60,
     "metadata": {},
     "output_type": "execute_result"
    },
    {
     "data": {
      "image/png": "[encoded data removed]",
      "text/plain": [
       "<Figure size 720x720 with 1 Axes>"
      ]
     },
     "metadata": {
      "needs_background": "light"
     },
     "output_type": "display_data"
    }
   ],
   "source": [
    "City_wise= pd.pivot_table(data = Customer_Spend, index = 'City', columns = 'Month_Name', values = 'Amount', aggfunc = 'sum')\n",
    "City_wise.plot(kind = 'bar', stacked = True, figsize = (10,10))"
   ]
  },
  {
   "cell_type": "markdown",
   "id": "a6d1091e",
   "metadata": {},
   "source": [
    "#### b. Comparison of yearly spend on air tickets"
   ]
  },
  {
   "cell_type": "code",
   "execution_count": 69,
   "id": "a0b10287",
   "metadata": {},
   "outputs": [
    {
     "data": {
      "text/plain": [
       "<AxesSubplot:xlabel='Type'>"
      ]
     },
     "execution_count": 69,
     "metadata": {},
     "output_type": "execute_result"
    },
    {
     "data": {
      "image/png": "[encoded data removed]",
      "text/plain": [
       "<Figure size 432x288 with 1 Axes>"
      ]
     },
     "metadata": {
      "needs_background": "light"
     },
     "output_type": "display_data"
    }
   ],
   "source": [
    "Yearwise_Spend = pd.pivot_table(data = Customer_Spend[Customer_Spend.Type== 'AIR TICKET'], index = 'Type' , columns = 'Yearly_Spend', values = 'Amount', aggfunc = 'sum')\n",
    "Yearwise_Spend.head(10)\n",
    "Yearwise_Spend.plot(kind = 'bar')"
   ]
  },
  {
   "cell_type": "markdown",
   "id": "227646fd",
   "metadata": {},
   "source": [
    "####  c. Comparison of monthly spend for each product (look for any seasonality that exists in terms of spend)\n",
    " "
   ]
  },
  {
   "cell_type": "code",
   "execution_count": 72,
   "id": "bce23ca9",
   "metadata": {},
   "outputs": [
    {
     "data": {
      "text/plain": [
       "<AxesSubplot:xlabel='Month_Name'>"
      ]
     },
     "execution_count": 72,
     "metadata": {},
     "output_type": "execute_result"
    },
    {
     "data": {
      "image/png": "[encoded data removed]",
      "text/plain": [
       "<Figure size 720x720 with 1 Axes>"
      ]
     },
     "metadata": {
      "needs_background": "light"
     },
     "output_type": "display_data"
    }
   ],
   "source": [
    "Monthwise_Spend = pd.pivot_table( data = Customer_Spend , index = 'Month_Name' , columns = 'Product' , values = 'Amount' , aggfunc = 'sum' )\n",
    "Monthwise_Spend.plot(kind = 'bar', figsize = (10,10))"
   ]
  },
  {
   "cell_type": "markdown",
   "id": "879d9e17",
   "metadata": {},
   "source": [
    " Among all the months, **January** stands out to have highest sales in all the product categories"
   ]
  },
  {
   "cell_type": "markdown",
   "id": "7c67aedb",
   "metadata": {},
   "source": [
    "### 5. Write user defined PYTHON function to perform the following analysis:"
   ]
  },
  {
   "cell_type": "markdown",
   "id": "390311eb",
   "metadata": {},
   "source": [
    "#### You need to find top 10 customers for each city in terms of their repayment amount by different products and by different time periods i.e. year or month. The user should be able to specify the product (Gold/Silver/Platinum) and time period (yearly or monthly) and the function should automatically take these inputs while identifying the top 10 customers."
   ]
  },
  {
   "cell_type": "code",
   "execution_count": 100,
   "id": "e9d99196",
   "metadata": {},
   "outputs": [],
   "source": [
    "Customer_Repayment['Yearly'] = Customer_Repayment['Month'].apply(lambda x: pd.Timestamp.strftime(x,format=\"%Y\"))\n",
    "Customer_Repayment['Monthly'] = Customer_Repayment['Month'].apply(lambda x: pd.Timestamp.strftime(x,format=\"%B\"))"
   ]
  },
  {
   "cell_type": "code",
   "execution_count": 126,
   "id": "088cc37a",
   "metadata": {},
   "outputs": [],
   "source": [
    "def top_10(Product , Time_Period ):\n",
    "    return Customer_Repayment.groupby(['Customer','City', 'Product',Time_Period]).Amount.mean().reset_index().sort_values('Amount',ascending = False).head(10)"
   ]
  },
  {
   "cell_type": "code",
   "execution_count": 127,
   "id": "cc03e03c",
   "metadata": {},
   "outputs": [
    {
     "name": "stdout",
     "output_type": "stream",
     "text": [
      "Please enter the product category that should be in Gold/Silver/Platinum :Gold\n",
      "Please enter the time_period thst should be Monthly/Yearly: Monthly\n"
     ]
    }
   ],
   "source": [
    "Product = input('Please enter the product category that should be in Gold/Silver/Platinum :')\n",
    "Time_Period = input('Please enter the time_period thst should be Monthly/Yearly: ')"
   ]
  },
  {
   "cell_type": "code",
   "execution_count": 128,
   "id": "bcc25da3",
   "metadata": {},
   "outputs": [
    {
     "data": {
      "text/html": [
       "<div>\n",
       "<style scoped>\n",
       "    .dataframe tbody tr th:only-of-type {\n",
       "        vertical-align: middle;\n",
       "    }\n",
       "\n",
       "    .dataframe tbody tr th {\n",
       "        vertical-align: top;\n",
       "    }\n",
       "\n",
       "    .dataframe thead th {\n",
       "        text-align: right;\n",
       "    }\n",
       "</style>\n",
       "<table border=\"1\" class=\"dataframe\">\n",
       "  <thead>\n",
       "    <tr style=\"text-align: right;\">\n",
       "      <th></th>\n",
       "      <th>Customer</th>\n",
       "      <th>City</th>\n",
       "      <th>Product</th>\n",
       "      <th>Monthly</th>\n",
       "      <th>Amount</th>\n",
       "    </tr>\n",
       "  </thead>\n",
       "  <tbody>\n",
       "    <tr>\n",
       "      <th>542</th>\n",
       "      <td>A89</td>\n",
       "      <td>CALCUTTA</td>\n",
       "      <td>Gold</td>\n",
       "      <td>April</td>\n",
       "      <td>497237.97</td>\n",
       "    </tr>\n",
       "    <tr>\n",
       "      <th>266</th>\n",
       "      <td>A38</td>\n",
       "      <td>CHENNAI</td>\n",
       "      <td>Platimum</td>\n",
       "      <td>December</td>\n",
       "      <td>492660.82</td>\n",
       "    </tr>\n",
       "    <tr>\n",
       "      <th>426</th>\n",
       "      <td>A54</td>\n",
       "      <td>COCHIN</td>\n",
       "      <td>Platimum</td>\n",
       "      <td>September</td>\n",
       "      <td>490775.95</td>\n",
       "    </tr>\n",
       "    <tr>\n",
       "      <th>291</th>\n",
       "      <td>A40</td>\n",
       "      <td>CALCUTTA</td>\n",
       "      <td>Platimum</td>\n",
       "      <td>August</td>\n",
       "      <td>488742.81</td>\n",
       "    </tr>\n",
       "    <tr>\n",
       "      <th>177</th>\n",
       "      <td>A27</td>\n",
       "      <td>CHENNAI</td>\n",
       "      <td>Gold</td>\n",
       "      <td>June</td>\n",
       "      <td>484419.68</td>\n",
       "    </tr>\n",
       "    <tr>\n",
       "      <th>533</th>\n",
       "      <td>A80</td>\n",
       "      <td>BOMBAY</td>\n",
       "      <td>Silver</td>\n",
       "      <td>March</td>\n",
       "      <td>481205.64</td>\n",
       "    </tr>\n",
       "    <tr>\n",
       "      <th>69</th>\n",
       "      <td>A17</td>\n",
       "      <td>BOMBAY</td>\n",
       "      <td>Gold</td>\n",
       "      <td>December</td>\n",
       "      <td>479227.30</td>\n",
       "    </tr>\n",
       "    <tr>\n",
       "      <th>501</th>\n",
       "      <td>A66</td>\n",
       "      <td>PATNA</td>\n",
       "      <td>Gold</td>\n",
       "      <td>January</td>\n",
       "      <td>477039.78</td>\n",
       "    </tr>\n",
       "    <tr>\n",
       "      <th>275</th>\n",
       "      <td>A39</td>\n",
       "      <td>TRIVANDRUM</td>\n",
       "      <td>Platimum</td>\n",
       "      <td>April</td>\n",
       "      <td>472407.74</td>\n",
       "    </tr>\n",
       "    <tr>\n",
       "      <th>172</th>\n",
       "      <td>A27</td>\n",
       "      <td>CHENNAI</td>\n",
       "      <td>Gold</td>\n",
       "      <td>August</td>\n",
       "      <td>472123.57</td>\n",
       "    </tr>\n",
       "  </tbody>\n",
       "</table>\n",
       "</div>"
      ],
      "text/plain": [
       "    Customer        City   Product    Monthly     Amount\n",
       "542      A89    CALCUTTA      Gold      April  497237.97\n",
       "266      A38     CHENNAI  Platimum   December  492660.82\n",
       "426      A54      COCHIN  Platimum  September  490775.95\n",
       "291      A40    CALCUTTA  Platimum     August  488742.81\n",
       "177      A27     CHENNAI      Gold       June  484419.68\n",
       "533      A80      BOMBAY    Silver      March  481205.64\n",
       "69       A17      BOMBAY      Gold   December  479227.30\n",
       "501      A66       PATNA      Gold    January  477039.78\n",
       "275      A39  TRIVANDRUM  Platimum      April  472407.74\n",
       "172      A27     CHENNAI      Gold     August  472123.57"
      ]
     },
     "execution_count": 128,
     "metadata": {},
     "output_type": "execute_result"
    }
   ],
   "source": [
    "Top_10_Customers = top_10( Product , Time_Period )\n",
    "Top_10_Customers"
   ]
  }
 ],
 "metadata": {
  "kernelspec": {
   "display_name": "Python 3 (ipykernel)",
   "language": "python",
   "name": "python3"
  },
  "language_info": {
   "codemirror_mode": {
    "name": "ipython",
    "version": 3
   },
   "file_extension": ".py",
   "mimetype": "text/x-python",
   "name": "python",
   "nbconvert_exporter": "python",
   "pygments_lexer": "ipython3",
   "version": "3.9.12"
  }
 },
 "nbformat": 4,
 "nbformat_minor": 5
}
